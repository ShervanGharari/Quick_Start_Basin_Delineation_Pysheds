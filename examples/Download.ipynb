{
 "cells": [
  {
   "cell_type": "markdown",
   "metadata": {},
   "source": [
    "# Download the data from [hydroshed](https://hydrosheds.cr.usgs.gov/datadownload.php)\n",
    "## This script download the data from the HydroSHEDS website and merge them togehter based into a signle file"
   ]
  },
  {
   "cell_type": "code",
   "execution_count": null,
   "metadata": {},
   "outputs": [
    {
     "name": "stdout",
     "output_type": "stream",
     "text": [
      "200 application/zip None\n",
      "download was successful for https://edcintl.cr.usgs.gov/downloads/sciweb1/shared/hydrosheds/sa_con_3s_bil/NA/n40w060_con_bil.zip\n",
      "200 application/zip None\n",
      "download was successful for https://edcintl.cr.usgs.gov/downloads/sciweb1/shared/hydrosheds/sa_con_3s_bil/NA/n40w065_con_bil.zip\n",
      "200 application/zip None\n",
      "download was successful for https://edcintl.cr.usgs.gov/downloads/sciweb1/shared/hydrosheds/sa_con_3s_bil/NA/n40w070_con_bil.zip\n",
      "200 application/zip None\n",
      "download was successful for https://edcintl.cr.usgs.gov/downloads/sciweb1/shared/hydrosheds/sa_con_3s_bil/NA/n40w075_con_bil.zip\n"
     ]
    }
   ],
   "source": [
    "# import necessary packages\n",
    "from pysheds.grid import Grid\n",
    "import numpy as np\n",
    "import os\n",
    "import glob\n",
    "import requests\n",
    "from zipfile import ZipFile\n",
    "from osgeo import gdal # or instead only import gdal\n",
    "import matplotlib.pyplot as plt\n",
    "\n",
    "\n",
    "# partly based on https://stackabuse.com/download-files-with-python/\n",
    "# specify the directory where the data will be downloaded to\n",
    "des_loc = '/Users/shg096/Desktop/DEM_downloads/'\n",
    "\n",
    "# List of the zip file to be downloaded\n",
    "# The link to the file can be found by right clicking on the file and copy the link here\n",
    "minlat, maxlat = 40, 50\n",
    "minlon, maxlon = 60, 85\n",
    "latitudes = np.arange(minlat,maxlat+1,5)\n",
    "longitudes = np.arange(minlon,maxlon+1,5)\n",
    "urls_con_dem = []\n",
    "urls_dir = []\n",
    "for lat in latitudes:\n",
    "    for lon in longitudes:\n",
    "        urls_con_dem += ['https://edcintl.cr.usgs.gov/downloads/sciweb1/shared/hydrosheds/sa_con_3s_bil/NA/n'+str(lat)+'w'+\"{0:0=3d}\".format(lon)+'_con_bil.zip']\n",
    "        urls_dir += ['https://edcintl.cr.usgs.gov/downloads/sciweb1/shared/hydrosheds/sa_dir_3s_zip_bil/NA/n'+str(lat)+'w'+\"{0:0=3d}\".format(lon)+'_dir_bil.zip']\n",
    "\n",
    "\n",
    "# creating the source destination folder if does not exists\n",
    "if not os.path.exists(des_loc):\n",
    "    os.makedirs(des_loc)\n",
    "    \n",
    "# create the urls from conditioned DEM and direction\n",
    "urls = urls_con_dem + urls_dir\n",
    "\n",
    "# loop to download the data\n",
    "for url in urls:\n",
    "    name = url.split('/')[-1] # get the name of the zip file at the end of the url to download\n",
    "    r = requests.get(url) # download the URL\n",
    "    # print the specification of the download \n",
    "    print(r.status_code, r.headers['content-type'], r.encoding)\n",
    "    # if download successful the statuse code is 200 then save the file, else print what was not downloaded\n",
    "    if r.status_code == 200:\n",
    "        print('download was successful for '+url)\n",
    "        with open(des_loc+name, 'wb') as f:\n",
    "            f.write(r.content)\n",
    "    else:\n",
    "        print('download was not successful for '+url)"
   ]
  },
  {
   "cell_type": "markdown",
   "metadata": {},
   "source": [
    "## Unzip the zip files"
   ]
  },
  {
   "cell_type": "code",
   "execution_count": null,
   "metadata": {},
   "outputs": [],
   "source": [
    "name_zips = glob.glob(des_loc+'*.zip')  # getting the name of the all the downloaded zip file in one directory\n",
    "# loop over the zip file names and unzip them\n",
    "for name_zip in name_zips:\n",
    "    with ZipFile(name_zip, 'r') as zipObj:\n",
    "        # Extract all the contents of zip file in different directory\n",
    "        folder_name = name_zip[:-4] # removing the zip extension (.zip)\n",
    "        zipObj.extractall(folder_name)"
   ]
  },
  {
   "cell_type": "markdown",
   "metadata": {},
   "source": [
    "## Merging DEMs into one DEM file"
   ]
  },
  {
   "cell_type": "code",
   "execution_count": null,
   "metadata": {},
   "outputs": [],
   "source": [
    "# partly based on https://www.neonscience.org/merge-lidar-geotiff-py\n",
    "names = glob.glob(des_loc+'*con*/*.bil') # get the name of the bil files for conditioned DEM\n",
    "string_of_names = \" \".join(names) # make a string of them\n",
    "print(string_of_names) # print the string for checking\n",
    "# create the command for gdal_merge, note the the gdal_merge is located in dgal directory for ease of use\n",
    "# for the ease of the user the gdal_merge is stored in a subfolder gdal\n",
    "command = 'python gdal/gdal_merge.py -o '+des_loc+'merged_DEM.tif '+ string_of_names\n",
    "print(command) # print the command to check\n",
    "os.system(command) # execute the command"
   ]
  },
  {
   "cell_type": "code",
   "execution_count": null,
   "metadata": {},
   "outputs": [],
   "source": [
    "grid = Grid.from_raster(des_loc+'merged_DEM.tif', data_name='dem')\n",
    "\n",
    "ID = np.where(grid.dem!=0) # the missing values is set to 0 removing them from min and max for colorbar\n",
    "plt.figure(figsize = (10,10))\n",
    "plt.imshow(grid.dem.astype(float), extent=grid.extent, cmap='jet', zorder=1,\n",
    "           vmin=np.min(grid.dem[ID]), vmax=np.max(grid.dem[ID]))\n",
    "plt.colorbar(label='Elevation (m)') # creating the colorbar and its name and unit\n",
    "plt.grid(zorder=0) # creating the grid on the map\n",
    "plt.title('Digital elevation map') # creating title\n",
    "plt.xlabel('Longitude') #xlable which is long\n",
    "plt.ylabel('Latitude') #ylable which is lat\n",
    "plt.tight_layout()"
   ]
  },
  {
   "cell_type": "code",
   "execution_count": null,
   "metadata": {},
   "outputs": [],
   "source": [
    "# partly based on https://www.neonscience.org/merge-lidar-geotiff-py\n",
    "names = glob.glob(des_loc+'*dir*/*.bil') # get the name of the bil files for conditioned DEM\n",
    "string_of_names = \" \".join(names) # make a string of them\n",
    "print(string_of_names) # print the string for checking\n",
    "# create the command for gdal_merge, note the the gdal_merge is located in dgal directory for ease of use\n",
    "# for the ease of the user the gdal_merge is stored in a subfolder gdal\n",
    "command = 'python gdal/gdal_merge.py -o '+des_loc+'merged_dir.tif '+ string_of_names\n",
    "print(command) # print the command to check\n",
    "os.system(command) # execute the command"
   ]
  },
  {
   "cell_type": "code",
   "execution_count": null,
   "metadata": {},
   "outputs": [],
   "source": [
    "grid = Grid.from_raster(des_loc+'merged_dir.tif', data_name='dem')\n",
    "\n",
    "ID = np.where(grid.dem!=0) # the missing values is set to 0 removing them from min and max for colorbar\n",
    "plt.figure(figsize = (10,10))\n",
    "plt.imshow(grid.dem.astype(float), extent=grid.extent, cmap='jet', zorder=1,\n",
    "           vmin=np.min(grid.dem[ID]), vmax=np.max(grid.dem[ID]))\n",
    "plt.colorbar(label='Elevation (m)') # creating the colorbar and its name and unit\n",
    "plt.grid(zorder=0) # creating the grid on the map\n",
    "plt.title('Digital elevation map') # creating title\n",
    "plt.xlabel('Longitude') #xlable which is long\n",
    "plt.ylabel('Latitude') #ylable which is lat\n",
    "plt.tight_layout()"
   ]
  },
  {
   "cell_type": "code",
   "execution_count": null,
   "metadata": {},
   "outputs": [],
   "source": []
  }
 ],
 "metadata": {
  "kernelspec": {
   "display_name": "Python 3",
   "language": "python",
   "name": "python3"
  },
  "language_info": {
   "codemirror_mode": {
    "name": "ipython",
    "version": 3
   },
   "file_extension": ".py",
   "mimetype": "text/x-python",
   "name": "python",
   "nbconvert_exporter": "python",
   "pygments_lexer": "ipython3",
   "version": "3.7.6"
  }
 },
 "nbformat": 4,
 "nbformat_minor": 4
}
